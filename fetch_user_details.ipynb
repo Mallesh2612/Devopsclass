{
  "nbformat": 4,
  "nbformat_minor": 0,
  "metadata": {
    "colab": {
      "provenance": [],
      "authorship_tag": "ABX9TyOx7AuiB71mjIqg+UNxKA9h",
      "include_colab_link": true
    },
    "kernelspec": {
      "name": "python3",
      "display_name": "Python 3"
    },
    "language_info": {
      "name": "python"
    }
  },
  "cells": [
    {
      "cell_type": "markdown",
      "metadata": {
        "id": "view-in-github",
        "colab_type": "text"
      },
      "source": [
        "<a href=\"https://colab.research.google.com/github/Mallesh2612/Devopsclass/blob/main/fetch_user_details.ipynb\" target=\"_parent\"><img src=\"https://colab.research.google.com/assets/colab-badge.svg\" alt=\"Open In Colab\"/></a>"
      ]
    },
    {
      "cell_type": "markdown",
      "source": [],
      "metadata": {
        "id": "RdYOugXuxzuM"
      }
    },
    {
      "cell_type": "code",
      "source": [
        "import oci\n",
        "import pandas as pd # Import the pandas library\n",
        "\n",
        "# Load the default configuration\n",
        "config = oci.config.from_file(\"/home/automationuser\")\n",
        "AllPredefinedTags = True\n",
        "NoValueString = \"n/a\"\n",
        "FieldSeperator = \",\"\n",
        "ReportFile = \"/home/user_report.csv\"\n",
        "\n",
        "# Create an IdentityClient\n",
        "identity_client = oci.identity.IdentityClient(config)\n",
        "\n",
        "# Fetch user details\n",
        "user_id = config[\"user\"]\n",
        "user = identity_client.get_user(user_id).data\n",
        "\n",
        "# Print user details\n",
        "print(f\"User OCID: {user.id}\")\n",
        "print(f\"User Name: {user.name}\")\n",
        "print(f\"Description: {user.description}\")\n",
        "print(f\"Email: {user.email}\")\n",
        "print(f\"Time Created: {user.time_created}\")\n",
        "\n",
        "# Create a dictionary from user data\n",
        "user_data = {\n",
        "    'OCID': [user.id],\n",
        "    'Name': [user.name],\n",
        "    'Description': [user.description],\n",
        "    'Email': [user.email],\n",
        "    'Time Created': [user.time_created]\n",
        "}\n",
        "\n",
        "# Create a DataFrame from the user data dictionary\n",
        "df = pd.DataFrame(user_data) # Create DataFrame from dictionary\n",
        "\n",
        "# Use to_csv to write to a csv file\n",
        "df.to_csv(ReportFile, index=False)\n",
        "\n",
        "print (\" \")\n",
        "print (\"Done, report written to: {}\".format(ReportFile))"
      ],
      "metadata": {
        "colab": {
          "base_uri": "https://localhost:8080/"
        },
        "id": "NUt36hKXx5OS",
        "outputId": "65878747-ed8c-405b-cf20-e874383dd3f1"
      },
      "execution_count": 174,
      "outputs": [
        {
          "output_type": "stream",
          "name": "stdout",
          "text": [
            "User OCID: ocid1.user.oc1..aaaaaaaazon5sfy775babbcl7v5af7n7vnih4dcf2l4pbrb6wvlxoi427taq\n",
            "User Name: mallesh2612@gmail.com\n",
            "Description: None\n",
            "Email: mallesh2612@gmail.com\n",
            "Time Created: 2024-12-29 09:05:55.329000+00:00\n",
            " \n",
            "Done, report written to: /home/user_report.csv\n"
          ]
        }
      ]
    }
  ]
}
