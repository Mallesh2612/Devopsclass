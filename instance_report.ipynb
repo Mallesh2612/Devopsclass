{
  "nbformat": 4,
  "nbformat_minor": 0,
  "metadata": {
    "colab": {
      "provenance": [],
      "authorship_tag": "ABX9TyPGPApYxuug4NWnyldmtjaY",
      "include_colab_link": true
    },
    "kernelspec": {
      "name": "python3",
      "display_name": "Python 3"
    },
    "language_info": {
      "name": "python"
    }
  },
  "cells": [
    {
      "cell_type": "markdown",
      "metadata": {
        "id": "view-in-github",
        "colab_type": "text"
      },
      "source": [
        "<a href=\"https://colab.research.google.com/github/Mallesh2612/Devopsclass/blob/main/instance_report.ipynb\" target=\"_parent\"><img src=\"https://colab.research.google.com/assets/colab-badge.svg\" alt=\"Open In Colab\"/></a>"
      ]
    },
    {
      "cell_type": "markdown",
      "source": [],
      "metadata": {
        "id": "RdYOugXuxzuM"
      }
    },
    {
      "cell_type": "code",
      "source": [
        "from os import cpu_count\n",
        "import oci\n",
        "import pandas as pd\n",
        "\n",
        "# Initialize the client\n",
        "config = oci.config.from_file(\"/home/mallesh2612\")\n",
        "AllPredefinedTags = True\n",
        "NoValueString = \"n/a\"\n",
        "FieldSeperator = \",\"\n",
        "ReportFile = \"/home/instance_report.csv\" # This should be a csv file\n",
        "compute_client = oci.core.ComputeClient(config)\n",
        "\n",
        "\n",
        "# List instances in a compartment\n",
        "compartment_id = 'ocid1.tenancy.oc1..aaaaaaaawzsia6gjkz6rhmt4gypwun3xymem5zjwryicdnwhy3ugbptkgs4q'\n",
        "instances = compute_client.list_instances(compartment_id).data\n",
        "\n",
        "# Extract instance details\n",
        "instance_data = []\n",
        "for instance in instances:\n",
        "    # Get the primary VNIC attachment\n",
        "    # The instance object does not have a vnic_attachments attribute directly.\n",
        "    # Instead, we need to retrieve VNIC attachments using the 'get_vnic_attachments' method.\n",
        "    vnic_attachments = compute_client.list_vnic_attachments(compartment_id, instance_id=instance.id).data\n",
        "\n",
        "    instance_data.append({\n",
        "        'Instance Name': instance.display_name,\n",
        "        'Status': instance.lifecycle_state,\n",
        "        'Shape' : instance.shape,\n",
        "        'Ocpu count' : instance.shape_config.ocpus,\n",
        "        'Memory' : instance.shape_config.memory_in_gbs,\n",
        "        'Availability domain' : instance.availability_domain,\n",
        "        'Created' : instance.time_created,\n",
        "        'Ocid' : instance.id,\n",
        "        'Compartment Name' : compartmentName,\n",
        "        'Region' : instance.region,\n",
        "    })\n",
        "\n",
        "# Create a DataFrame and write to csv\n",
        "df = pd.DataFrame(instance_data)\n",
        "# Use to_csv to write to a csv file\n",
        "df.to_csv(ReportFile, index=False) # Changed to_excel to to_csv\n",
        "\n",
        "print (\" \")\n",
        "print (\"Done, report written to: {}\".format(ReportFile))\n",
        "#report.close() # This is closed in previous cell already."
      ],
      "metadata": {
        "colab": {
          "base_uri": "https://localhost:8080/"
        },
        "id": "NUt36hKXx5OS",
        "outputId": "6cfe1a8c-3162-4fec-8b67-913383ee5876"
      },
      "execution_count": 175,
      "outputs": [
        {
          "output_type": "stream",
          "name": "stdout",
          "text": [
            " \n",
            "Done, report written to: /home/instance_report.csv\n"
          ]
        }
      ]
    }
  ]
}